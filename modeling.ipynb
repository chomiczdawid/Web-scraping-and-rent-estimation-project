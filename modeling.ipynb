{
  "metadata": {
    "kernelspec": {
      "name": "python",
      "display_name": "Python (Pyodide)",
      "language": "python"
    },
    "language_info": {
      "codemirror_mode": {
        "name": "ipython",
        "version": 3
      },
      "file_extension": ".py",
      "mimetype": "text/x-python",
      "name": "python",
      "nbconvert_exporter": "python",
      "pygments_lexer": "ipython3",
      "version": "3.8.3"
    }
  },
  "nbformat_minor": 4,
  "nbformat": 4,
  "cells": [
    {
      "cell_type": "markdown",
      "source": "# Modeling process",
      "metadata": {}
    },
    {
      "cell_type": "code",
      "source": "# Importing necessary libraries\nimport pandas as pd\nimport numpy as np\nimport matplotlib.pyplot as plt\nimport random\n\n# Editing display option for jupyter notebook to show all rows and column of dataframes\npd.set_option('display.max_rows', None)\npd.set_option('display.max_columns', None)",
      "metadata": {},
      "execution_count": 99,
      "outputs": []
    },
    {
      "cell_type": "markdown",
      "source": "### Loading scraped data and initial data cleaning",
      "metadata": {}
    },
    {
      "cell_type": "code",
      "source": "# Loading data\ndf = pd.read_csv('data_trojmiasto.csv')",
      "metadata": {},
      "execution_count": 101,
      "outputs": []
    },
    {
      "cell_type": "code",
      "source": "# Droping unusable \ndf.drop(df.columns[[0, 14, 15, 16]],axis=1,inplace=True)",
      "metadata": {},
      "execution_count": 102,
      "outputs": []
    },
    {
      "cell_type": "code",
      "source": "# Renaming every column to english and standardized names, lower cased and no spaces\ndf.rename(columns = {'Cena':'price',\n                     'Liczba pokoi':'rooms',\n                     'Piętro':'floor',\n                     'Rok budowy':'year',\n                     'Jestem':'landlord_type',\n                     'Rodzaj nieruchomości':'local_type',\n                     'Umeblowane':'furnished',\n                     'Liczba pięter w budynku':'levels',\n                     'Powierzchnia':'area_size',\n                     'Niezależne pokoje':'indep_rooms',\n                     'Dostępne od':'availability_date',\n                     'Kaucja':'deposit',\n                     'Typ ogrzewania':'heating_type',\n                     'Liczba osób w pokoju':'people_limit',\n                     'Powierzchnia działki':'land_area'}, inplace = True)",
      "metadata": {},
      "execution_count": 104,
      "outputs": []
    },
    {
      "cell_type": "code",
      "source": "# Converting values of selected columns to desirable types and formats\ndf['price'] = df['price'].str.replace(' ', '')\ndf['price'] = df['price'].str.extract('(\\d+)')\ndf['price'] = df['price'].astype('int')\ndf['area_size'] = df['area_size'].str.replace(',', '.')\ndf['area_size'] = df['area_size'].str.replace(' ', '')\ndf['area_size'] = df['area_size'].astype('float')\n# df['rooms'] = df['rooms'].astype('int')\n# df['year'] = df['year'].astype('int')",
      "metadata": {},
      "execution_count": 105,
      "outputs": []
    },
    {
      "cell_type": "code",
      "source": "df.head()",
      "metadata": {},
      "execution_count": 106,
      "outputs": [
        {
          "execution_count": 106,
          "output_type": "execute_result",
          "data": {
            "text/html": [
              "<div>\n",
              "<style scoped>\n",
              "    .dataframe tbody tr th:only-of-type {\n",
              "        vertical-align: middle;\n",
              "    }\n",
              "\n",
              "    .dataframe tbody tr th {\n",
              "        vertical-align: top;\n",
              "    }\n",
              "\n",
              "    .dataframe thead th {\n",
              "        text-align: right;\n",
              "    }\n",
              "</style>\n",
              "<table border=\"1\" class=\"dataframe\">\n",
              "  <thead>\n",
              "    <tr style=\"text-align: right;\">\n",
              "      <th></th>\n",
              "      <th>price</th>\n",
              "      <th>rooms</th>\n",
              "      <th>floor</th>\n",
              "      <th>year</th>\n",
              "      <th>landlord_type</th>\n",
              "      <th>local_type</th>\n",
              "      <th>furnished</th>\n",
              "      <th>levels</th>\n",
              "      <th>area_size</th>\n",
              "      <th>indep_rooms</th>\n",
              "      <th>availability_date</th>\n",
              "      <th>deposit</th>\n",
              "      <th>heating_type</th>\n",
              "      <th>people_limit</th>\n",
              "      <th>land_area</th>\n",
              "    </tr>\n",
              "  </thead>\n",
              "  <tbody>\n",
              "    <tr>\n",
              "      <th>0</th>\n",
              "      <td>4500</td>\n",
              "      <td>1.0</td>\n",
              "      <td>Parter</td>\n",
              "      <td>1900.0</td>\n",
              "      <td>Osobą prywatną</td>\n",
              "      <td>Lokal handlowy</td>\n",
              "      <td>Nie</td>\n",
              "      <td>3.0</td>\n",
              "      <td>50.0</td>\n",
              "      <td>Tak</td>\n",
              "      <td>Zaraz</td>\n",
              "      <td>NaN</td>\n",
              "      <td>NaN</td>\n",
              "      <td>NaN</td>\n",
              "      <td>NaN</td>\n",
              "    </tr>\n",
              "    <tr>\n",
              "      <th>1</th>\n",
              "      <td>2500</td>\n",
              "      <td>1.0</td>\n",
              "      <td>2</td>\n",
              "      <td>2021.0</td>\n",
              "      <td>Osobą prywatną</td>\n",
              "      <td>Mieszkanie</td>\n",
              "      <td>Tak</td>\n",
              "      <td>17.0</td>\n",
              "      <td>31.0</td>\n",
              "      <td>NaN</td>\n",
              "      <td>02. 01. 2023</td>\n",
              "      <td>2500.0</td>\n",
              "      <td>Miejskie</td>\n",
              "      <td>NaN</td>\n",
              "      <td>NaN</td>\n",
              "    </tr>\n",
              "    <tr>\n",
              "      <th>2</th>\n",
              "      <td>2400</td>\n",
              "      <td>2.0</td>\n",
              "      <td>4</td>\n",
              "      <td>NaN</td>\n",
              "      <td>Firmą</td>\n",
              "      <td>Mieszkanie</td>\n",
              "      <td>Tak</td>\n",
              "      <td>4.0</td>\n",
              "      <td>44.0</td>\n",
              "      <td>NaN</td>\n",
              "      <td>NaN</td>\n",
              "      <td>NaN</td>\n",
              "      <td>C. o. miejskie</td>\n",
              "      <td>NaN</td>\n",
              "      <td>NaN</td>\n",
              "    </tr>\n",
              "    <tr>\n",
              "      <th>3</th>\n",
              "      <td>2300</td>\n",
              "      <td>2.0</td>\n",
              "      <td>2</td>\n",
              "      <td>2022.0</td>\n",
              "      <td>Firmą</td>\n",
              "      <td>Mieszkanie</td>\n",
              "      <td>Tak</td>\n",
              "      <td>4.0</td>\n",
              "      <td>38.0</td>\n",
              "      <td>NaN</td>\n",
              "      <td>NaN</td>\n",
              "      <td>NaN</td>\n",
              "      <td>NaN</td>\n",
              "      <td>NaN</td>\n",
              "      <td>NaN</td>\n",
              "    </tr>\n",
              "    <tr>\n",
              "      <th>4</th>\n",
              "      <td>2200</td>\n",
              "      <td>2.0</td>\n",
              "      <td>Parter</td>\n",
              "      <td>2020.0</td>\n",
              "      <td>Firmą</td>\n",
              "      <td>Mieszkanie</td>\n",
              "      <td>Tak</td>\n",
              "      <td>4.0</td>\n",
              "      <td>30.0</td>\n",
              "      <td>NaN</td>\n",
              "      <td>01-01-2023</td>\n",
              "      <td>NaN</td>\n",
              "      <td>NaN</td>\n",
              "      <td>NaN</td>\n",
              "      <td>NaN</td>\n",
              "    </tr>\n",
              "  </tbody>\n",
              "</table>\n",
              "</div>"
            ],
            "text/plain": [
              "   price  rooms   floor    year   landlord_type      local_type furnished  \\\n",
              "0   4500    1.0  Parter  1900.0  Osobą prywatną  Lokal handlowy       Nie   \n",
              "1   2500    1.0       2  2021.0  Osobą prywatną      Mieszkanie       Tak   \n",
              "2   2400    2.0       4     NaN           Firmą      Mieszkanie       Tak   \n",
              "3   2300    2.0       2  2022.0           Firmą      Mieszkanie       Tak   \n",
              "4   2200    2.0  Parter  2020.0           Firmą      Mieszkanie       Tak   \n",
              "\n",
              "   levels  area_size indep_rooms availability_date  deposit    heating_type  \\\n",
              "0     3.0       50.0         Tak             Zaraz      NaN             NaN   \n",
              "1    17.0       31.0         NaN      02. 01. 2023   2500.0        Miejskie   \n",
              "2     4.0       44.0         NaN               NaN      NaN  C. o. miejskie   \n",
              "3     4.0       38.0         NaN               NaN      NaN             NaN   \n",
              "4     4.0       30.0         NaN        01-01-2023      NaN             NaN   \n",
              "\n",
              "  people_limit land_area  \n",
              "0          NaN       NaN  \n",
              "1          NaN       NaN  \n",
              "2          NaN       NaN  \n",
              "3          NaN       NaN  \n",
              "4          NaN       NaN  "
            ]
          },
          "metadata": {}
        }
      ]
    },
    {
      "cell_type": "code",
      "source": "# Initial length of data frame\nlen(df)",
      "metadata": {},
      "execution_count": 107,
      "outputs": [
        {
          "execution_count": 107,
          "output_type": "execute_result",
          "data": {
            "text/plain": [
              "2859"
            ]
          },
          "metadata": {}
        }
      ]
    },
    {
      "cell_type": "code",
      "source": "# Summary of missing data\nprint('Braki:')\nprint('%       ','N     ','VAR')\nfor i in df.columns:\n    print(\"{:4.2f}\".format(round(len(df[df[i].isna()]) / len(df), 2)), \"  \", \"{:4}\".format(len(df[df[i].isna()])), \"  \",i)",
      "metadata": {},
      "execution_count": 108,
      "outputs": [
        {
          "name": "stdout",
          "output_type": "stream",
          "text": "Braki:\n\n%        N      VAR\n\n0.00       0    price\n\n0.32     906    rooms\n\n0.18     509    floor\n\n0.29     816    year\n\n0.00       0    landlord_type\n\n0.00       2    local_type\n\n0.06     175    furnished\n\n0.28     790    levels\n\n0.00       0    area_size\n\n0.86    2452    indep_rooms\n\n0.73    2077    availability_date\n\n0.76    2175    deposit\n\n0.39    1124    heating_type\n\n0.92    2627    people_limit\n\n0.91    2605    land_area\n"
        }
      ]
    },
    {
      "cell_type": "code",
      "source": "# Deleting every variable with missing data ratio greater than 0.38\ndfm = df[['price','rooms','floor','year','landlord_type','local_type','furnished','levels','area_size']]",
      "metadata": {},
      "execution_count": 109,
      "outputs": []
    },
    {
      "cell_type": "code",
      "source": "# Deleting rows with NaN values in any of the remaining columns\ndfm = dfm[~(dfm['rooms'].isna()) & ~(dfm['floor'].isna()) & ~(dfm['furnished'].isna()) & ~(dfm['local_type'].isna()) & ~(dfm['year'].isna()) & ~(dfm['levels'].isna())]",
      "metadata": {},
      "execution_count": 110,
      "outputs": []
    },
    {
      "cell_type": "code",
      "source": "# Deleting rows where value of 'price' variable is greater than 9th decile or lover than 1th decile\ndfm = dfm[(dfm.price >= dfm.price.quantile(.10)) & (dfm.price <= dfm.price.quantile(.90))]",
      "metadata": {},
      "execution_count": 111,
      "outputs": []
    },
    {
      "cell_type": "code",
      "source": "# Deleting detected outlier value of variable 'levels'\ndfm = dfm[dfm['levels'] < 3000]",
      "metadata": {},
      "execution_count": 112,
      "outputs": []
    },
    {
      "cell_type": "code",
      "source": "# Summary of missing data on changed dataset\nprint('Braki:')\nprint('%       ','N     ','VAR')\nfor i in dfm.columns:\n    print(\"{:4.2f}\".format(round(len(dfm[dfm[i].isna()]) / len(dfm), 2)), \"  \", \"{:4}\".format(len(dfm[dfm[i].isna()])), \"  \",i)",
      "metadata": {},
      "execution_count": 113,
      "outputs": [
        {
          "name": "stdout",
          "output_type": "stream",
          "text": "Braki:\n\n%        N      VAR\n\n0.00       0    price\n\n0.00       0    rooms\n\n0.00       0    floor\n\n0.00       0    year\n\n0.00       0    landlord_type\n\n0.00       0    local_type\n\n0.00       0    furnished\n\n0.00       0    levels\n\n0.00       0    area_size\n"
        }
      ]
    },
    {
      "cell_type": "markdown",
      "source": "### Analytical process of defining standardized categorical variables",
      "metadata": {}
    },
    {
      "cell_type": "code",
      "source": "dfm.head()",
      "metadata": {},
      "execution_count": 114,
      "outputs": [
        {
          "execution_count": 114,
          "output_type": "execute_result",
          "data": {
            "text/html": [
              "<div>\n",
              "<style scoped>\n",
              "    .dataframe tbody tr th:only-of-type {\n",
              "        vertical-align: middle;\n",
              "    }\n",
              "\n",
              "    .dataframe tbody tr th {\n",
              "        vertical-align: top;\n",
              "    }\n",
              "\n",
              "    .dataframe thead th {\n",
              "        text-align: right;\n",
              "    }\n",
              "</style>\n",
              "<table border=\"1\" class=\"dataframe\">\n",
              "  <thead>\n",
              "    <tr style=\"text-align: right;\">\n",
              "      <th></th>\n",
              "      <th>price</th>\n",
              "      <th>rooms</th>\n",
              "      <th>floor</th>\n",
              "      <th>year</th>\n",
              "      <th>landlord_type</th>\n",
              "      <th>local_type</th>\n",
              "      <th>furnished</th>\n",
              "      <th>levels</th>\n",
              "      <th>area_size</th>\n",
              "    </tr>\n",
              "  </thead>\n",
              "  <tbody>\n",
              "    <tr>\n",
              "      <th>0</th>\n",
              "      <td>4500</td>\n",
              "      <td>1.0</td>\n",
              "      <td>Parter</td>\n",
              "      <td>1900.0</td>\n",
              "      <td>Osobą prywatną</td>\n",
              "      <td>Lokal handlowy</td>\n",
              "      <td>Nie</td>\n",
              "      <td>3.0</td>\n",
              "      <td>50.0</td>\n",
              "    </tr>\n",
              "    <tr>\n",
              "      <th>1</th>\n",
              "      <td>2500</td>\n",
              "      <td>1.0</td>\n",
              "      <td>2</td>\n",
              "      <td>2021.0</td>\n",
              "      <td>Osobą prywatną</td>\n",
              "      <td>Mieszkanie</td>\n",
              "      <td>Tak</td>\n",
              "      <td>17.0</td>\n",
              "      <td>31.0</td>\n",
              "    </tr>\n",
              "    <tr>\n",
              "      <th>3</th>\n",
              "      <td>2300</td>\n",
              "      <td>2.0</td>\n",
              "      <td>2</td>\n",
              "      <td>2022.0</td>\n",
              "      <td>Firmą</td>\n",
              "      <td>Mieszkanie</td>\n",
              "      <td>Tak</td>\n",
              "      <td>4.0</td>\n",
              "      <td>38.0</td>\n",
              "    </tr>\n",
              "    <tr>\n",
              "      <th>4</th>\n",
              "      <td>2200</td>\n",
              "      <td>2.0</td>\n",
              "      <td>Parter</td>\n",
              "      <td>2020.0</td>\n",
              "      <td>Firmą</td>\n",
              "      <td>Mieszkanie</td>\n",
              "      <td>Tak</td>\n",
              "      <td>4.0</td>\n",
              "      <td>30.0</td>\n",
              "    </tr>\n",
              "    <tr>\n",
              "      <th>6</th>\n",
              "      <td>2950</td>\n",
              "      <td>2.0</td>\n",
              "      <td>6</td>\n",
              "      <td>1972.0</td>\n",
              "      <td>Osobą prywatną</td>\n",
              "      <td>Mieszkanie</td>\n",
              "      <td>Tak</td>\n",
              "      <td>11.0</td>\n",
              "      <td>38.0</td>\n",
              "    </tr>\n",
              "  </tbody>\n",
              "</table>\n",
              "</div>"
            ],
            "text/plain": [
              "   price  rooms   floor    year   landlord_type      local_type furnished  \\\n",
              "0   4500    1.0  Parter  1900.0  Osobą prywatną  Lokal handlowy       Nie   \n",
              "1   2500    1.0       2  2021.0  Osobą prywatną      Mieszkanie       Tak   \n",
              "3   2300    2.0       2  2022.0           Firmą      Mieszkanie       Tak   \n",
              "4   2200    2.0  Parter  2020.0           Firmą      Mieszkanie       Tak   \n",
              "6   2950    2.0       6  1972.0  Osobą prywatną      Mieszkanie       Tak   \n",
              "\n",
              "   levels  area_size  \n",
              "0     3.0       50.0  \n",
              "1    17.0       31.0  \n",
              "3     4.0       38.0  \n",
              "4     4.0       30.0  \n",
              "6    11.0       38.0  "
            ]
          },
          "metadata": {}
        }
      ]
    },
    {
      "cell_type": "code",
      "source": "# Data frame length after changes\nlen(dfm)",
      "metadata": {},
      "execution_count": 115,
      "outputs": [
        {
          "execution_count": 115,
          "output_type": "execute_result",
          "data": {
            "text/plain": [
              "1143"
            ]
          },
          "metadata": {}
        }
      ]
    },
    {
      "cell_type": "code",
      "source": "# Code cells below from 116 to 130 show a repeated proces of describing variable structure \n# to later define artificial category ranges for all variables except 'price' and 'area_size'",
      "metadata": {
        "trusted": true
      },
      "execution_count": null,
      "outputs": []
    },
    {
      "cell_type": "code",
      "source": "dfm.price.describe()",
      "metadata": {},
      "execution_count": 116,
      "outputs": [
        {
          "execution_count": 116,
          "output_type": "execute_result",
          "data": {
            "text/plain": [
              "count    1143.000000\n",
              "mean     3354.982502\n",
              "std      1366.709336\n",
              "min      1950.000000\n",
              "25%      2500.000000\n",
              "50%      2900.000000\n",
              "75%      3700.000000\n",
              "max      8592.000000\n",
              "Name: price, dtype: float64"
            ]
          },
          "metadata": {}
        }
      ]
    },
    {
      "cell_type": "code",
      "source": "dfm.price.quantile(.90)",
      "metadata": {},
      "execution_count": 117,
      "outputs": [
        {
          "execution_count": 117,
          "output_type": "execute_result",
          "data": {
            "text/plain": [
              "5500.0"
            ]
          },
          "metadata": {}
        }
      ]
    },
    {
      "cell_type": "code",
      "source": "len(dfm[(dfm.price >= dfm.price.quantile(.10)) & (dfm.price <= dfm.price.quantile(.90))])",
      "metadata": {},
      "execution_count": 118,
      "outputs": [
        {
          "execution_count": 118,
          "output_type": "execute_result",
          "data": {
            "text/plain": [
              "950"
            ]
          },
          "metadata": {}
        }
      ]
    },
    {
      "cell_type": "code",
      "source": "dfm.groupby(['rooms'])['rooms'].count()",
      "metadata": {},
      "execution_count": 119,
      "outputs": [
        {
          "execution_count": 119,
          "output_type": "execute_result",
          "data": {
            "text/plain": [
              "rooms\n",
              "1.0    201\n",
              "2.0    609\n",
              "3.0    251\n",
              "4.0     60\n",
              "5.0     18\n",
              "6.0      2\n",
              "7.0      1\n",
              "9.0      1\n",
              "Name: rooms, dtype: int64"
            ]
          },
          "metadata": {}
        }
      ]
    },
    {
      "cell_type": "code",
      "source": "dfm.groupby(['floor'])['floor'].count()",
      "metadata": {},
      "execution_count": 120,
      "outputs": [
        {
          "execution_count": 120,
          "output_type": "execute_result",
          "data": {
            "text/plain": [
              "floor\n",
              "-2          1\n",
              "1         260\n",
              "10         17\n",
              "11          7\n",
              "12         10\n",
              "13          2\n",
              "14          5\n",
              "15          6\n",
              "16          7\n",
              "17          1\n",
              "2         205\n",
              "3         149\n",
              "4         119\n",
              "5          41\n",
              "6          21\n",
              "7          21\n",
              "8          13\n",
              "9          14\n",
              "Parter    244\n",
              "Name: floor, dtype: int64"
            ]
          },
          "metadata": {}
        }
      ]
    },
    {
      "cell_type": "code",
      "source": "dfm.floor.unique()",
      "metadata": {},
      "execution_count": 121,
      "outputs": [
        {
          "execution_count": 121,
          "output_type": "execute_result",
          "data": {
            "text/plain": [
              "array(['Parter', '2', '6', '17', '1', '4', '3', '5', '9', '8', '16', '15',\n",
              "       '11', '7', '12', '10', '14', '-2', '13'], dtype=object)"
            ]
          },
          "metadata": {}
        }
      ]
    },
    {
      "cell_type": "code",
      "source": "dfm.year.describe()",
      "metadata": {},
      "execution_count": 122,
      "outputs": [
        {
          "execution_count": 122,
          "output_type": "execute_result",
          "data": {
            "text/plain": [
              "count    1143.000000\n",
              "mean     1998.595801\n",
              "std        69.750991\n",
              "min        19.000000\n",
              "25%      1990.000000\n",
              "50%      2012.000000\n",
              "75%      2020.000000\n",
              "max      2023.000000\n",
              "Name: year, dtype: float64"
            ]
          },
          "metadata": {}
        }
      ]
    },
    {
      "cell_type": "code",
      "source": "dfm.landlord_type.unique()",
      "metadata": {},
      "execution_count": 123,
      "outputs": [
        {
          "execution_count": 123,
          "output_type": "execute_result",
          "data": {
            "text/plain": [
              "array(['Osobą prywatną', 'Firmą'], dtype=object)"
            ]
          },
          "metadata": {}
        }
      ]
    },
    {
      "cell_type": "code",
      "source": "dfm.groupby(['local_type'])['local_type'].count()",
      "metadata": {},
      "execution_count": 124,
      "outputs": [
        {
          "execution_count": 124,
          "output_type": "execute_result",
          "data": {
            "text/plain": [
              "local_type\n",
              "Biuro                    85\n",
              "Dom piętro domu           1\n",
              "Lokal biurowy             2\n",
              "Lokal gastronomiczny      1\n",
              "Lokal handlowy            6\n",
              "Lokal usługowy           83\n",
              "Magazyn                   4\n",
              "Mieszkanie              946\n",
              "Obiekt                    2\n",
              "Pokój                     2\n",
              "Sklep                    11\n",
              "Name: local_type, dtype: int64"
            ]
          },
          "metadata": {}
        }
      ]
    },
    {
      "cell_type": "code",
      "source": "dfm.furnished.unique()",
      "metadata": {},
      "execution_count": 125,
      "outputs": [
        {
          "execution_count": 125,
          "output_type": "execute_result",
          "data": {
            "text/plain": [
              "array(['Nie', 'Tak'], dtype=object)"
            ]
          },
          "metadata": {}
        }
      ]
    },
    {
      "cell_type": "code",
      "source": "dfm.levels.describe()",
      "metadata": {},
      "execution_count": 126,
      "outputs": [
        {
          "execution_count": 126,
          "output_type": "execute_result",
          "data": {
            "text/plain": [
              "count    1143.000000\n",
              "mean        5.186352\n",
              "std         3.859315\n",
              "min         1.000000\n",
              "25%         3.000000\n",
              "50%         4.000000\n",
              "75%         5.000000\n",
              "max        20.000000\n",
              "Name: levels, dtype: float64"
            ]
          },
          "metadata": {}
        }
      ]
    },
    {
      "cell_type": "code",
      "source": "dfm.groupby(['levels'])['levels'].count()",
      "metadata": {},
      "execution_count": 127,
      "outputs": [
        {
          "execution_count": 127,
          "output_type": "execute_result",
          "data": {
            "text/plain": [
              "levels\n",
              "1.0      49\n",
              "2.0     104\n",
              "3.0     246\n",
              "4.0     331\n",
              "5.0     157\n",
              "6.0      50\n",
              "7.0      24\n",
              "8.0      16\n",
              "9.0       5\n",
              "10.0     66\n",
              "11.0      9\n",
              "12.0      4\n",
              "13.0      2\n",
              "14.0      3\n",
              "16.0     17\n",
              "17.0     46\n",
              "18.0     13\n",
              "20.0      1\n",
              "Name: levels, dtype: int64"
            ]
          },
          "metadata": {}
        }
      ]
    },
    {
      "cell_type": "code",
      "source": "dfm.area_size.describe()",
      "metadata": {},
      "execution_count": 129,
      "outputs": [
        {
          "execution_count": 129,
          "output_type": "execute_result",
          "data": {
            "text/plain": [
              "count    1143.000000\n",
              "mean       54.830700\n",
              "std        26.902303\n",
              "min        15.000000\n",
              "25%        40.000000\n",
              "50%        48.000000\n",
              "75%        62.380000\n",
              "max       265.000000\n",
              "Name: area_size, dtype: float64"
            ]
          },
          "metadata": {}
        }
      ]
    },
    {
      "cell_type": "markdown",
      "source": "### Transforming variables according to the previous analysis",
      "metadata": {}
    },
    {
      "cell_type": "code",
      "source": "# Local type\n# After analysis following categories were defined: mieszkanie, dom, biznes, parking, inne\nmieszkalne = ['Mieszkanie','Lokal hotelowy','Pokój','Dom piętro domu','Dom bliźniak','Pokój']\nbiznes = ['Lokal handlowy','Lokal usługowy', 'Biuro', 'Magazyn', 'Sklep','Lokal gastronomiczny','Lokal biurowy']\ninne = ['Obiekt'] \n\ndfm['s_local_type'] = np.nan\n\nfor i in range(0, len(dfm)):\n    if dfm.iloc[i, 5] in mieszkalne:\n        dfm.iloc[i, 9] = 'mieszkalne'\n    if dfm.iloc[i, 5] in biznes:\n        dfm.iloc[i, 9] = 'komercyjne'\n    if dfm.iloc[i, 5] in inne:\n        dfm.iloc[i, 9] = 'inne'",
      "metadata": {},
      "execution_count": 131,
      "outputs": []
    },
    {
      "cell_type": "code",
      "source": "# Floor\n# After analysis following categories were defined: parter, 1, 2, 3, 4, 5-10, >10\nparter = ['Parter','-2']\nplus5 = ['6','5','9','8','7','10']\nplus10 = ['11','12','14','13','17','16','15']\n\ndfm['s_floor'] = np.nan\n\nfor i in range(0, len(dfm)):\n    if dfm.iloc[i, 2] in parter:\n        dfm.iloc[i, 10] = '<=0'\n    if dfm.iloc[i, 2] == '1':\n        dfm.iloc[i, 10] = '1'\n    if dfm.iloc[i, 2] == '2':\n        dfm.iloc[i, 10] = '2'\n    if dfm.iloc[i, 2] == '3':\n        dfm.iloc[i, 10] = '3'\n    if dfm.iloc[i, 2] == '4':\n        dfm.iloc[i, 10] = '4'\n    if dfm.iloc[i, 2] in plus5:\n        dfm.iloc[i, 10] = '5-10'\n    if dfm.iloc[i, 2] in plus10:\n        dfm.iloc[i, 10] = '>10'",
      "metadata": {},
      "execution_count": 132,
      "outputs": []
    },
    {
      "cell_type": "code",
      "source": "# Rooms\n# After analysis following categories were defined: 1, 2, 3, 4+\ndfm['s_rooms'] = np.nan\n\nfor i in range(0, len(dfm)):\n    if dfm.iloc[i, 1] == 1:\n        dfm.iloc[i, 11] = '1'\n    if dfm.iloc[i, 1] == 2:\n        dfm.iloc[i, 11] = '2'\n    if dfm.iloc[i, 1] == 3:\n        dfm.iloc[i, 11] = '3'\n    if dfm.iloc[i, 1] >= 4:\n        dfm.iloc[i, 11] = '4+'",
      "metadata": {},
      "execution_count": 133,
      "outputs": []
    },
    {
      "cell_type": "code",
      "source": "# Year\n# After analysis following categories were defined: <2005, 2005-2009, 2010-2014, 2015-2019, 2020+\ndfm['s_year'] = np.nan\n\nfor i in range(0, len(dfm)):\n    if dfm.iloc[i, 3] < 1990:\n        dfm.iloc[i, 12] = '<1990'\n    if (dfm.iloc[i, 3] >= 1990) & (dfm.iloc[i, 3] < 2005):\n        dfm.iloc[i, 12] = '1990-2005'\n    if (dfm.iloc[i, 3] >= 2005) & (dfm.iloc[i, 3] < 2015):\n        dfm.iloc[i, 12] = '2005-2015'\n    if (dfm.iloc[i, 3] >= 2015) & (dfm.iloc[i, 3] < 2020):\n        dfm.iloc[i, 12] = '2015-2020'\n    if dfm.iloc[i, 3] >= 2020:\n        dfm.iloc[i, 12] = '>=2020'",
      "metadata": {},
      "execution_count": 134,
      "outputs": []
    },
    {
      "cell_type": "code",
      "source": "# Levels\n# After analysis following categories were defined: <=2, 3, 4, 5, >6\ndfm['s_levels'] = np.nan\n\nfor i in range(0, len(dfm)):\n    if dfm.iloc[i, 7] <= 2:\n        dfm.iloc[i, 13] = '<=2'\n    if dfm.iloc[i, 7] == 3:\n        dfm.iloc[i, 13] = '3'\n    if dfm.iloc[i, 7] == 4:\n        dfm.iloc[i, 13] = '4'\n    if dfm.iloc[i, 7] == 5:\n        dfm.iloc[i, 13] = '5'\n    if dfm.iloc[i, 7] >= 6:\n        dfm.iloc[i, 13] = '>6'",
      "metadata": {},
      "execution_count": 136,
      "outputs": []
    },
    {
      "cell_type": "code",
      "source": "# Landlord type\n# string conversion to lower case and no spaces\ndfm['s_landlord_type'] = np.nan\n\nfor i in range(0, len(dfm)):\n    if dfm.iloc[i, 4] == 'Osobą prywatną':\n        dfm.iloc[i, 14] = 'osoba_prywatna'\n    if dfm.iloc[i, 4] == 'Firmą':\n        dfm.iloc[i, 14] = 'firma'",
      "metadata": {},
      "execution_count": 138,
      "outputs": []
    },
    {
      "cell_type": "code",
      "source": "# Defining new data frame with only standardized variables for modeling process\ndfs = dfm[['price','s_rooms','s_floor','s_year','s_landlord_type','s_local_type','furnished','s_levels','area_size']]",
      "metadata": {},
      "execution_count": 139,
      "outputs": []
    },
    {
      "cell_type": "code",
      "source": "dfs.head(1)",
      "metadata": {},
      "execution_count": 140,
      "outputs": [
        {
          "execution_count": 140,
          "output_type": "execute_result",
          "data": {
            "text/html": [
              "<div>\n",
              "<style scoped>\n",
              "    .dataframe tbody tr th:only-of-type {\n",
              "        vertical-align: middle;\n",
              "    }\n",
              "\n",
              "    .dataframe tbody tr th {\n",
              "        vertical-align: top;\n",
              "    }\n",
              "\n",
              "    .dataframe thead th {\n",
              "        text-align: right;\n",
              "    }\n",
              "</style>\n",
              "<table border=\"1\" class=\"dataframe\">\n",
              "  <thead>\n",
              "    <tr style=\"text-align: right;\">\n",
              "      <th></th>\n",
              "      <th>price</th>\n",
              "      <th>s_rooms</th>\n",
              "      <th>s_floor</th>\n",
              "      <th>s_year</th>\n",
              "      <th>s_landlord_type</th>\n",
              "      <th>s_local_type</th>\n",
              "      <th>furnished</th>\n",
              "      <th>s_levels</th>\n",
              "      <th>area_size</th>\n",
              "    </tr>\n",
              "  </thead>\n",
              "  <tbody>\n",
              "    <tr>\n",
              "      <th>0</th>\n",
              "      <td>4500</td>\n",
              "      <td>1</td>\n",
              "      <td>&lt;=0</td>\n",
              "      <td>&lt;1990</td>\n",
              "      <td>osoba_prywatna</td>\n",
              "      <td>komercyjne</td>\n",
              "      <td>Nie</td>\n",
              "      <td>3</td>\n",
              "      <td>50.0</td>\n",
              "    </tr>\n",
              "  </tbody>\n",
              "</table>\n",
              "</div>"
            ],
            "text/plain": [
              "   price s_rooms s_floor s_year s_landlord_type s_local_type furnished  \\\n",
              "0   4500       1     <=0  <1990  osoba_prywatna   komercyjne       Nie   \n",
              "\n",
              "  s_levels  area_size  \n",
              "0        3       50.0  "
            ]
          },
          "metadata": {}
        }
      ]
    },
    {
      "cell_type": "markdown",
      "source": "#### Dummy coding",
      "metadata": {}
    },
    {
      "cell_type": "code",
      "source": "# Generating dummy variables (binary column for every category of every variable)\ndfr = pd.get_dummies(dfs)",
      "metadata": {},
      "execution_count": 141,
      "outputs": []
    },
    {
      "cell_type": "code",
      "source": "dfr.head()",
      "metadata": {},
      "execution_count": 142,
      "outputs": [
        {
          "execution_count": 142,
          "output_type": "execute_result",
          "data": {
            "text/html": [
              "<div>\n",
              "<style scoped>\n",
              "    .dataframe tbody tr th:only-of-type {\n",
              "        vertical-align: middle;\n",
              "    }\n",
              "\n",
              "    .dataframe tbody tr th {\n",
              "        vertical-align: top;\n",
              "    }\n",
              "\n",
              "    .dataframe thead th {\n",
              "        text-align: right;\n",
              "    }\n",
              "</style>\n",
              "<table border=\"1\" class=\"dataframe\">\n",
              "  <thead>\n",
              "    <tr style=\"text-align: right;\">\n",
              "      <th></th>\n",
              "      <th>price</th>\n",
              "      <th>area_size</th>\n",
              "      <th>s_rooms_1</th>\n",
              "      <th>s_rooms_2</th>\n",
              "      <th>s_rooms_3</th>\n",
              "      <th>s_rooms_4+</th>\n",
              "      <th>s_floor_1</th>\n",
              "      <th>s_floor_2</th>\n",
              "      <th>s_floor_3</th>\n",
              "      <th>s_floor_4</th>\n",
              "      <th>s_floor_5-10</th>\n",
              "      <th>s_floor_&lt;=0</th>\n",
              "      <th>s_floor_&gt;10</th>\n",
              "      <th>s_year_1990-2005</th>\n",
              "      <th>s_year_2005-2015</th>\n",
              "      <th>s_year_2015-2020</th>\n",
              "      <th>s_year_&lt;1990</th>\n",
              "      <th>s_year_&gt;=2020</th>\n",
              "      <th>s_landlord_type_firma</th>\n",
              "      <th>s_landlord_type_osoba_prywatna</th>\n",
              "      <th>s_local_type_inne</th>\n",
              "      <th>s_local_type_komercyjne</th>\n",
              "      <th>s_local_type_mieszkalne</th>\n",
              "      <th>furnished_Nie</th>\n",
              "      <th>furnished_Tak</th>\n",
              "      <th>s_levels_3</th>\n",
              "      <th>s_levels_4</th>\n",
              "      <th>s_levels_5</th>\n",
              "      <th>s_levels_&lt;=2</th>\n",
              "      <th>s_levels_&gt;6</th>\n",
              "    </tr>\n",
              "  </thead>\n",
              "  <tbody>\n",
              "    <tr>\n",
              "      <th>0</th>\n",
              "      <td>4500</td>\n",
              "      <td>50.0</td>\n",
              "      <td>1</td>\n",
              "      <td>0</td>\n",
              "      <td>0</td>\n",
              "      <td>0</td>\n",
              "      <td>0</td>\n",
              "      <td>0</td>\n",
              "      <td>0</td>\n",
              "      <td>0</td>\n",
              "      <td>0</td>\n",
              "      <td>1</td>\n",
              "      <td>0</td>\n",
              "      <td>0</td>\n",
              "      <td>0</td>\n",
              "      <td>0</td>\n",
              "      <td>1</td>\n",
              "      <td>0</td>\n",
              "      <td>0</td>\n",
              "      <td>1</td>\n",
              "      <td>0</td>\n",
              "      <td>1</td>\n",
              "      <td>0</td>\n",
              "      <td>1</td>\n",
              "      <td>0</td>\n",
              "      <td>1</td>\n",
              "      <td>0</td>\n",
              "      <td>0</td>\n",
              "      <td>0</td>\n",
              "      <td>0</td>\n",
              "    </tr>\n",
              "    <tr>\n",
              "      <th>1</th>\n",
              "      <td>2500</td>\n",
              "      <td>31.0</td>\n",
              "      <td>1</td>\n",
              "      <td>0</td>\n",
              "      <td>0</td>\n",
              "      <td>0</td>\n",
              "      <td>0</td>\n",
              "      <td>1</td>\n",
              "      <td>0</td>\n",
              "      <td>0</td>\n",
              "      <td>0</td>\n",
              "      <td>0</td>\n",
              "      <td>0</td>\n",
              "      <td>0</td>\n",
              "      <td>0</td>\n",
              "      <td>0</td>\n",
              "      <td>0</td>\n",
              "      <td>1</td>\n",
              "      <td>0</td>\n",
              "      <td>1</td>\n",
              "      <td>0</td>\n",
              "      <td>0</td>\n",
              "      <td>1</td>\n",
              "      <td>0</td>\n",
              "      <td>1</td>\n",
              "      <td>0</td>\n",
              "      <td>0</td>\n",
              "      <td>0</td>\n",
              "      <td>0</td>\n",
              "      <td>1</td>\n",
              "    </tr>\n",
              "    <tr>\n",
              "      <th>3</th>\n",
              "      <td>2300</td>\n",
              "      <td>38.0</td>\n",
              "      <td>0</td>\n",
              "      <td>1</td>\n",
              "      <td>0</td>\n",
              "      <td>0</td>\n",
              "      <td>0</td>\n",
              "      <td>1</td>\n",
              "      <td>0</td>\n",
              "      <td>0</td>\n",
              "      <td>0</td>\n",
              "      <td>0</td>\n",
              "      <td>0</td>\n",
              "      <td>0</td>\n",
              "      <td>0</td>\n",
              "      <td>0</td>\n",
              "      <td>0</td>\n",
              "      <td>1</td>\n",
              "      <td>1</td>\n",
              "      <td>0</td>\n",
              "      <td>0</td>\n",
              "      <td>0</td>\n",
              "      <td>1</td>\n",
              "      <td>0</td>\n",
              "      <td>1</td>\n",
              "      <td>0</td>\n",
              "      <td>1</td>\n",
              "      <td>0</td>\n",
              "      <td>0</td>\n",
              "      <td>0</td>\n",
              "    </tr>\n",
              "    <tr>\n",
              "      <th>4</th>\n",
              "      <td>2200</td>\n",
              "      <td>30.0</td>\n",
              "      <td>0</td>\n",
              "      <td>1</td>\n",
              "      <td>0</td>\n",
              "      <td>0</td>\n",
              "      <td>0</td>\n",
              "      <td>0</td>\n",
              "      <td>0</td>\n",
              "      <td>0</td>\n",
              "      <td>0</td>\n",
              "      <td>1</td>\n",
              "      <td>0</td>\n",
              "      <td>0</td>\n",
              "      <td>0</td>\n",
              "      <td>0</td>\n",
              "      <td>0</td>\n",
              "      <td>1</td>\n",
              "      <td>1</td>\n",
              "      <td>0</td>\n",
              "      <td>0</td>\n",
              "      <td>0</td>\n",
              "      <td>1</td>\n",
              "      <td>0</td>\n",
              "      <td>1</td>\n",
              "      <td>0</td>\n",
              "      <td>1</td>\n",
              "      <td>0</td>\n",
              "      <td>0</td>\n",
              "      <td>0</td>\n",
              "    </tr>\n",
              "    <tr>\n",
              "      <th>6</th>\n",
              "      <td>2950</td>\n",
              "      <td>38.0</td>\n",
              "      <td>0</td>\n",
              "      <td>1</td>\n",
              "      <td>0</td>\n",
              "      <td>0</td>\n",
              "      <td>0</td>\n",
              "      <td>0</td>\n",
              "      <td>0</td>\n",
              "      <td>0</td>\n",
              "      <td>1</td>\n",
              "      <td>0</td>\n",
              "      <td>0</td>\n",
              "      <td>0</td>\n",
              "      <td>0</td>\n",
              "      <td>0</td>\n",
              "      <td>1</td>\n",
              "      <td>0</td>\n",
              "      <td>0</td>\n",
              "      <td>1</td>\n",
              "      <td>0</td>\n",
              "      <td>0</td>\n",
              "      <td>1</td>\n",
              "      <td>0</td>\n",
              "      <td>1</td>\n",
              "      <td>0</td>\n",
              "      <td>0</td>\n",
              "      <td>0</td>\n",
              "      <td>0</td>\n",
              "      <td>1</td>\n",
              "    </tr>\n",
              "  </tbody>\n",
              "</table>\n",
              "</div>"
            ],
            "text/plain": [
              "   price  area_size  s_rooms_1  s_rooms_2  s_rooms_3  s_rooms_4+  s_floor_1  \\\n",
              "0   4500       50.0          1          0          0           0          0   \n",
              "1   2500       31.0          1          0          0           0          0   \n",
              "3   2300       38.0          0          1          0           0          0   \n",
              "4   2200       30.0          0          1          0           0          0   \n",
              "6   2950       38.0          0          1          0           0          0   \n",
              "\n",
              "   s_floor_2  s_floor_3  s_floor_4  s_floor_5-10  s_floor_<=0  s_floor_>10  \\\n",
              "0          0          0          0             0            1            0   \n",
              "1          1          0          0             0            0            0   \n",
              "3          1          0          0             0            0            0   \n",
              "4          0          0          0             0            1            0   \n",
              "6          0          0          0             1            0            0   \n",
              "\n",
              "   s_year_1990-2005  s_year_2005-2015  s_year_2015-2020  s_year_<1990  \\\n",
              "0                 0                 0                 0             1   \n",
              "1                 0                 0                 0             0   \n",
              "3                 0                 0                 0             0   \n",
              "4                 0                 0                 0             0   \n",
              "6                 0                 0                 0             1   \n",
              "\n",
              "   s_year_>=2020  s_landlord_type_firma  s_landlord_type_osoba_prywatna  \\\n",
              "0              0                      0                               1   \n",
              "1              1                      0                               1   \n",
              "3              1                      1                               0   \n",
              "4              1                      1                               0   \n",
              "6              0                      0                               1   \n",
              "\n",
              "   s_local_type_inne  s_local_type_komercyjne  s_local_type_mieszkalne  \\\n",
              "0                  0                        1                        0   \n",
              "1                  0                        0                        1   \n",
              "3                  0                        0                        1   \n",
              "4                  0                        0                        1   \n",
              "6                  0                        0                        1   \n",
              "\n",
              "   furnished_Nie  furnished_Tak  s_levels_3  s_levels_4  s_levels_5  \\\n",
              "0              1              0           1           0           0   \n",
              "1              0              1           0           0           0   \n",
              "3              0              1           0           1           0   \n",
              "4              0              1           0           1           0   \n",
              "6              0              1           0           0           0   \n",
              "\n",
              "   s_levels_<=2  s_levels_>6  \n",
              "0             0            0  \n",
              "1             0            1  \n",
              "3             0            0  \n",
              "4             0            0  \n",
              "6             0            1  "
            ]
          },
          "metadata": {}
        }
      ]
    },
    {
      "cell_type": "markdown",
      "source": "## Estimating price regression model",
      "metadata": {}
    },
    {
      "cell_type": "code",
      "source": "import statsmodels.api as sm\n# Defining X and y variables for regression model\nX = dfr.drop('price', axis=1)\ny = dfr['price']\n\n# Adding constant to the model\nX = sm.add_constant(X)\n\n# Estimating regression model\nmodel = sm.OLS(y, X).fit()",
      "metadata": {},
      "execution_count": 146,
      "outputs": []
    },
    {
      "cell_type": "code",
      "source": "# Estimation summary\nprint(model.summary())",
      "metadata": {},
      "execution_count": 147,
      "outputs": [
        {
          "name": "stdout",
          "output_type": "stream",
          "text": "                            OLS Regression Results                            \n\n==============================================================================\n\nDep. Variable:                  price   R-squared:                       0.629\n\nModel:                            OLS   Adj. R-squared:                  0.622\n\nMethod:                 Least Squares   F-statistic:                     86.30\n\nDate:                Thu, 12 Jan 2023   Prob (F-statistic):          6.69e-223\n\nTime:                        22:13:38   Log-Likelihood:                -9307.4\n\nNo. Observations:                1143   AIC:                         1.866e+04\n\nDf Residuals:                    1120   BIC:                         1.878e+04\n\nDf Model:                          22                                         \n\nCovariance Type:            nonrobust                                         \n\n==================================================================================================\n\n                                     coef    std err          t      P>|t|      [0.025      0.975]\n\n--------------------------------------------------------------------------------------------------\n\nconst                            755.7928     71.300     10.600      0.000     615.895     895.690\n\narea_size                         26.5410      1.307     20.309      0.000      23.977      29.105\n\ns_rooms_1                       -175.8115     62.776     -2.801      0.005    -298.982     -52.640\n\ns_rooms_2                       -215.5744     46.931     -4.593      0.000    -307.656    -123.493\n\ns_rooms_3                        364.4616     55.339      6.586      0.000     255.881     473.042\n\ns_rooms_4+                       782.7171     90.513      8.648      0.000     605.123     960.311\n\ns_floor_1                        -33.4247     58.650     -0.570      0.569    -148.502      81.652\n\ns_floor_2                        115.7583     62.457      1.853      0.064      -6.787     238.304\n\ns_floor_3                        177.9951     69.966      2.544      0.011      40.716     315.274\n\ns_floor_4                        163.7268     76.395      2.143      0.032      13.833     313.621\n\ns_floor_5-10                      24.4024     81.614      0.299      0.765    -135.730     184.535\n\ns_floor_<=0                      309.6374     61.914      5.001      0.000     188.157     431.118\n\ns_floor_>10                       -2.3024    132.315     -0.017      0.986    -261.915     257.310\n\ns_year_1990-2005                -329.0008     76.696     -4.290      0.000    -479.485    -178.517\n\ns_year_2005-2015                 116.3137     53.855      2.160      0.031      10.645     221.983\n\ns_year_2015-2020                 587.8158     54.624     10.761      0.000     480.640     694.992\n\ns_year_<1990                    -124.2161     50.325     -2.468      0.014    -222.958     -25.475\n\ns_year_>=2020                    504.8802     51.047      9.890      0.000     404.721     605.039\n\ns_landlord_type_firma            502.8201     43.487     11.563      0.000     417.496     588.145\n\ns_landlord_type_osoba_prywatna   252.9727     47.468      5.329      0.000     159.836     346.109\n\ns_local_type_inne                660.3613    421.180      1.568      0.117    -166.029    1486.751\n\ns_local_type_komercyjne          258.6247    189.779      1.363      0.173    -113.738     630.987\n\ns_local_type_mieszkalne         -163.1931    183.168     -0.891      0.373    -522.584     196.198\n\nfurnished_Nie                    467.3097     55.558      8.411      0.000     358.301     576.319\n\nfurnished_Tak                    288.4831     48.982      5.890      0.000     192.376     384.590\n\ns_levels_3                        96.9709     55.160      1.758      0.079     -11.258     205.200\n\ns_levels_4                       155.3376     49.079      3.165      0.002      59.040     251.635\n\ns_levels_5                       341.9499     64.839      5.274      0.000     214.730     469.170\n\ns_levels_<=2                    -199.9388     69.683     -2.869      0.004    -336.662     -63.216\n\ns_levels_>6                      361.4733     64.749      5.583      0.000     234.430     488.517\n\n==============================================================================\n\nOmnibus:                      149.462   Durbin-Watson:                   1.937\n\nProb(Omnibus):                  0.000   Jarque-Bera (JB):              999.101\n\nSkew:                           0.384   Prob(JB):                    1.12e-217\n\nKurtosis:                       7.515   Cond. No.                     6.27e+16\n\n==============================================================================\n\n\n\nWarnings:\n\n[1] Standard Errors assume that the covariance matrix of the errors is correctly specified.\n\n[2] The smallest eigenvalue is 1.09e-27. This might indicate that there are\n\nstrong multicollinearity problems or that the design matrix is singular.\n"
        }
      ]
    },
    {
      "cell_type": "code",
      "source": "# Assigning model parameters to 'params' object\nparams = model.params",
      "metadata": {},
      "execution_count": 148,
      "outputs": []
    },
    {
      "cell_type": "code",
      "source": "# Converting 'params' object to list\nlparams = params.values.tolist()\n\n# Saving params list to text file params.txt\nwith open('params.txt', 'w') as fp:\n    for item in lparams:\n        fp.write(\"%s\\n\" % item)\n    print('Done')",
      "metadata": {},
      "execution_count": 158,
      "outputs": [
        {
          "name": "stdout",
          "output_type": "stream",
          "text": "Done\n"
        }
      ]
    }
  ]
}
