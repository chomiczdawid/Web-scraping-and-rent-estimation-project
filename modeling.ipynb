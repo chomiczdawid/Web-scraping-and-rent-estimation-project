{
 "cells": [
  {
   "cell_type": "markdown",
   "metadata": {},
   "source": [
    "## Proces modelowania"
   ]
  },
  {
   "cell_type": "code",
   "execution_count": 8,
   "metadata": {},
   "outputs": [],
   "source": [
    "import pandas as pd\n",
    "import numpy as np\n",
    "import matplotlib.pyplot as plt\n",
    "import random"
   ]
  },
  {
   "cell_type": "markdown",
   "metadata": {},
   "source": [
    "### Sztuczny zbiór danych do testów"
   ]
  },
  {
   "cell_type": "code",
   "execution_count": 37,
   "metadata": {},
   "outputs": [],
   "source": [
    "n = 150\n",
    "wynajem = random.sample(range(1000, 10000), n)\n",
    "df = pd.DataFrame(wynajem, columns=['wynajem'])\n",
    "df['powierzchnia'] = random.choices(range(20, 100), k=n)\n",
    "df['l_pokoi'] = random.choices(range(1, 6), k=n)\n",
    "df['pietro'] = random.choices(range(1, 15), k=n)\n",
    "data_od = ['2022-12-21','2022-12-31','2023-01-01','2022-12-11']\n",
    "df['data_od'] = random.choices(data_od, k=n)\n",
    "obsluga_zdalna = ['tak','nie']\n",
    "df['obsluga_zdalna'] = random.choices(obsluga_zdalna, k=n)\n",
    "df['czynsz'] = random.choices(range(300, 1500), k=n)\n",
    "df['kaucja'] = random.choices(range(1000, 8000), k=n)\n",
    "rodzaj_zabudowy = ['blok', 'apartamentowiec', 'kamienica']\n",
    "df['rodzaj_zabudowy'] = random.choices(rodzaj_zabudowy, k=n)\n",
    "bot = ['balkon', 'taras', 'brak', 'ogród']\n",
    "df['bot'] = random.choices(bot, k=n)\n",
    "wykonczenie = ['do zamieszkania', 'do zamieszkania', 'do zamieszkania', 'stan developerski']\n",
    "df['wykonczenie'] = random.choices(wykonczenie, k=n)"
   ]
  },
  {
   "cell_type": "code",
   "execution_count": 38,
   "metadata": {},
   "outputs": [
    {
     "data": {
      "text/html": [
       "<div>\n",
       "<style scoped>\n",
       "    .dataframe tbody tr th:only-of-type {\n",
       "        vertical-align: middle;\n",
       "    }\n",
       "\n",
       "    .dataframe tbody tr th {\n",
       "        vertical-align: top;\n",
       "    }\n",
       "\n",
       "    .dataframe thead th {\n",
       "        text-align: right;\n",
       "    }\n",
       "</style>\n",
       "<table border=\"1\" class=\"dataframe\">\n",
       "  <thead>\n",
       "    <tr style=\"text-align: right;\">\n",
       "      <th></th>\n",
       "      <th>wynajem</th>\n",
       "      <th>powierzchnia</th>\n",
       "      <th>l_pokoi</th>\n",
       "      <th>pietro</th>\n",
       "      <th>data_od</th>\n",
       "      <th>obsluga_zdalna</th>\n",
       "      <th>czynsz</th>\n",
       "      <th>kaucja</th>\n",
       "      <th>rodzaj_zabudowy</th>\n",
       "      <th>bot</th>\n",
       "      <th>wykonczenie</th>\n",
       "    </tr>\n",
       "  </thead>\n",
       "  <tbody>\n",
       "    <tr>\n",
       "      <th>0</th>\n",
       "      <td>2324</td>\n",
       "      <td>32</td>\n",
       "      <td>5</td>\n",
       "      <td>2</td>\n",
       "      <td>2022-12-31</td>\n",
       "      <td>tak</td>\n",
       "      <td>379</td>\n",
       "      <td>3432</td>\n",
       "      <td>blok</td>\n",
       "      <td>taras</td>\n",
       "      <td>stan developerski</td>\n",
       "    </tr>\n",
       "    <tr>\n",
       "      <th>1</th>\n",
       "      <td>3030</td>\n",
       "      <td>87</td>\n",
       "      <td>3</td>\n",
       "      <td>4</td>\n",
       "      <td>2022-12-21</td>\n",
       "      <td>tak</td>\n",
       "      <td>1270</td>\n",
       "      <td>5666</td>\n",
       "      <td>blok</td>\n",
       "      <td>ogród</td>\n",
       "      <td>do zamieszkania</td>\n",
       "    </tr>\n",
       "    <tr>\n",
       "      <th>2</th>\n",
       "      <td>9652</td>\n",
       "      <td>77</td>\n",
       "      <td>4</td>\n",
       "      <td>10</td>\n",
       "      <td>2023-01-01</td>\n",
       "      <td>nie</td>\n",
       "      <td>623</td>\n",
       "      <td>2091</td>\n",
       "      <td>apartamentowiec</td>\n",
       "      <td>ogród</td>\n",
       "      <td>stan developerski</td>\n",
       "    </tr>\n",
       "    <tr>\n",
       "      <th>3</th>\n",
       "      <td>1064</td>\n",
       "      <td>36</td>\n",
       "      <td>2</td>\n",
       "      <td>1</td>\n",
       "      <td>2022-12-31</td>\n",
       "      <td>tak</td>\n",
       "      <td>673</td>\n",
       "      <td>4246</td>\n",
       "      <td>kamienica</td>\n",
       "      <td>brak</td>\n",
       "      <td>stan developerski</td>\n",
       "    </tr>\n",
       "    <tr>\n",
       "      <th>4</th>\n",
       "      <td>1586</td>\n",
       "      <td>74</td>\n",
       "      <td>4</td>\n",
       "      <td>3</td>\n",
       "      <td>2022-12-21</td>\n",
       "      <td>nie</td>\n",
       "      <td>1283</td>\n",
       "      <td>5352</td>\n",
       "      <td>apartamentowiec</td>\n",
       "      <td>taras</td>\n",
       "      <td>do zamieszkania</td>\n",
       "    </tr>\n",
       "  </tbody>\n",
       "</table>\n",
       "</div>"
      ],
      "text/plain": [
       "   wynajem  powierzchnia  l_pokoi  pietro     data_od obsluga_zdalna  czynsz  \\\n",
       "0     2324            32        5       2  2022-12-31            tak     379   \n",
       "1     3030            87        3       4  2022-12-21            tak    1270   \n",
       "2     9652            77        4      10  2023-01-01            nie     623   \n",
       "3     1064            36        2       1  2022-12-31            tak     673   \n",
       "4     1586            74        4       3  2022-12-21            nie    1283   \n",
       "\n",
       "   kaucja  rodzaj_zabudowy    bot        wykonczenie  \n",
       "0    3432             blok  taras  stan developerski  \n",
       "1    5666             blok  ogród    do zamieszkania  \n",
       "2    2091  apartamentowiec  ogród  stan developerski  \n",
       "3    4246        kamienica   brak  stan developerski  \n",
       "4    5352  apartamentowiec  taras    do zamieszkania  "
      ]
     },
     "execution_count": 38,
     "metadata": {},
     "output_type": "execute_result"
    }
   ],
   "source": [
    "df.head()"
   ]
  },
  {
   "cell_type": "markdown",
   "metadata": {},
   "source": [
    "#### Dummy coding"
   ]
  },
  {
   "cell_type": "code",
   "execution_count": 40,
   "metadata": {},
   "outputs": [],
   "source": [
    "dfm = pd.get_dummies(df)"
   ]
  },
  {
   "cell_type": "markdown",
   "metadata": {},
   "source": [
    "## Modelowanie"
   ]
  },
  {
   "cell_type": "markdown",
   "metadata": {},
   "source": [
    "#### Pakiet Scikit-Learn"
   ]
  },
  {
   "cell_type": "code",
   "execution_count": 53,
   "metadata": {},
   "outputs": [
    {
     "data": {
      "text/plain": [
       "LinearRegression()"
      ]
     },
     "execution_count": 53,
     "metadata": {},
     "output_type": "execute_result"
    }
   ],
   "source": [
    "from sklearn.model_selection import train_test_split\n",
    "from sklearn.linear_model import LinearRegression\n",
    "from sklearn.metrics import mean_squared_error, mean_absolute_error\n",
    "from sklearn import preprocessing\n",
    "\n",
    "X = dfm.drop('wynajem', axis=1)\n",
    "y = dfm['wynajem']\n",
    "\n",
    "X_train, X_test, y_train, y_test = train_test_split(X, y, test_size=0.3, random_state=101)\n",
    "\n",
    "skmodel = LinearRegression()\n",
    "\n",
    "skmodel.fit(X_train, y_train)"
   ]
  },
  {
   "cell_type": "code",
   "execution_count": 54,
   "metadata": {},
   "outputs": [
    {
     "name": "stdout",
     "output_type": "stream",
     "text": [
      "y = 4178.506152607888 + X * [ 2.32894722e+01  3.49425567e+01  1.83590205e+01 -9.80503576e-01\n",
      "  4.87742412e-02  4.84537235e+02  1.95890188e+02 -7.89362007e+02\n",
      "  1.08934584e+02  2.25956119e+02 -2.25956119e+02  2.77615842e+02\n",
      " -5.09070101e+02  2.31454259e+02  4.29626052e+02  2.14511784e+02\n",
      "  1.25866814e+02 -7.70004650e+02  6.46014761e+01 -6.46014761e+01]\n",
      "\n",
      "R-squared = 0.09513127063228799\n"
     ]
    }
   ],
   "source": [
    "print(\"y = \"+str(skmodel.intercept_)+\" + X * \"+str(skmodel.coef_))\n",
    "print(\"\\nR-squared = \"+str(skmodel.score(X, y)))"
   ]
  },
  {
   "cell_type": "code",
   "execution_count": 56,
   "metadata": {},
   "outputs": [
    {
     "name": "stdout",
     "output_type": "stream",
     "text": [
      "mean_squared_error :  7844727.781320942\n",
      "mean_absolute_error :  2447.284861671714\n"
     ]
    }
   ],
   "source": [
    "predictions = skmodel.predict(X_test)\n",
    "\n",
    "print('mean_squared_error : ', mean_squared_error(y_test, predictions))\n",
    "print('mean_absolute_error : ', mean_absolute_error(y_test, predictions))"
   ]
  },
  {
   "cell_type": "markdown",
   "metadata": {},
   "source": [
    "#### Pakiet statsmodels"
   ]
  },
  {
   "cell_type": "code",
   "execution_count": 57,
   "metadata": {},
   "outputs": [],
   "source": [
    "import statsmodels.api as sm\n",
    "\n",
    "X = dfm.drop('wynajem', axis=1)\n",
    "y = dfm['wynajem']\n",
    "\n",
    "X = sm.add_constant(X)\n",
    "\n",
    "model = sm.OLS(y, X).fit()"
   ]
  },
  {
   "cell_type": "code",
   "execution_count": 58,
   "metadata": {},
   "outputs": [
    {
     "name": "stdout",
     "output_type": "stream",
     "text": [
      "                            OLS Regression Results                            \n",
      "==============================================================================\n",
      "Dep. Variable:                wynajem   R-squared:                       0.134\n",
      "Model:                            OLS   Adj. R-squared:                  0.038\n",
      "Method:                 Least Squares   F-statistic:                     1.388\n",
      "Date:                Sun, 11 Dec 2022   Prob (F-statistic):              0.162\n",
      "Time:                        12:26:38   Log-Likelihood:                -1386.8\n",
      "No. Observations:                 150   AIC:                             2806.\n",
      "Df Residuals:                     134   BIC:                             2854.\n",
      "Df Model:                          15                                         \n",
      "Covariance Type:            nonrobust                                         \n",
      "===================================================================================================\n",
      "                                      coef    std err          t      P>|t|      [0.025      0.975]\n",
      "---------------------------------------------------------------------------------------------------\n",
      "const                            1396.3179    380.281      3.672      0.000     644.188    2148.448\n",
      "powierzchnia                       28.1308      9.753      2.884      0.005       8.841      47.421\n",
      "l_pokoi                           195.1602    161.878      1.206      0.230    -125.007     515.327\n",
      "pietro                            -49.8747     55.124     -0.905      0.367    -158.900      59.150\n",
      "czynsz                             -0.9474      0.665     -1.425      0.156      -2.262       0.367\n",
      "kaucja                              0.0718      0.113      0.634      0.527      -0.152       0.295\n",
      "data_od_2022-12-11                600.5261    375.607      1.599      0.112    -142.359    1343.411\n",
      "data_od_2022-12-21                408.5829    404.896      1.009      0.315    -392.231    1209.397\n",
      "data_od_2022-12-31               -200.6898    372.019     -0.539      0.590    -936.479     535.100\n",
      "data_od_2023-01-01                587.8987    446.657      1.316      0.190    -295.512    1471.309\n",
      "obsluga_zdalna_nie                900.6076    304.440      2.958      0.004     298.479    1502.736\n",
      "obsluga_zdalna_tak                495.7103    281.327      1.762      0.080     -60.705    1052.125\n",
      "rodzaj_zabudowy_apartamentowiec   707.6434    325.336      2.175      0.031      64.186    1351.101\n",
      "rodzaj_zabudowy_blok               92.6676    346.040      0.268      0.789    -591.739     777.074\n",
      "rodzaj_zabudowy_kamienica         596.0069    385.002      1.548      0.124    -165.460    1357.473\n",
      "bot_balkon                        735.8837    389.308      1.890      0.061     -34.099    1505.866\n",
      "bot_brak                          667.9166    419.314      1.593      0.114    -161.413    1497.246\n",
      "bot_ogród                         -40.4847    407.873     -0.099      0.921    -847.185     766.216\n",
      "bot_taras                          33.0024    406.186      0.081      0.935    -770.362     836.367\n",
      "wykonczenie_do zamieszkania       600.7433    334.944      1.794      0.075     -61.718    1263.205\n",
      "wykonczenie_stan developerski     795.5746    313.637      2.537      0.012     175.255    1415.895\n",
      "==============================================================================\n",
      "Omnibus:                       55.880   Durbin-Watson:                   2.118\n",
      "Prob(Omnibus):                  0.000   Jarque-Bera (JB):                8.820\n",
      "Skew:                           0.057   Prob(JB):                       0.0122\n",
      "Kurtosis:                       1.818   Cond. No.                     6.06e+19\n",
      "==============================================================================\n",
      "\n",
      "Warnings:\n",
      "[1] Standard Errors assume that the covariance matrix of the errors is correctly specified.\n",
      "[2] The smallest eigenvalue is 9.8e-31. This might indicate that there are\n",
      "strong multicollinearity problems or that the design matrix is singular.\n"
     ]
    }
   ],
   "source": [
    "print(model.summary())"
   ]
  },
  {
   "cell_type": "code",
   "execution_count": null,
   "metadata": {},
   "outputs": [],
   "source": []
  }
 ],
 "metadata": {
  "kernelspec": {
   "display_name": "Python 3",
   "language": "python",
   "name": "python3"
  },
  "language_info": {
   "codemirror_mode": {
    "name": "ipython",
    "version": 3
   },
   "file_extension": ".py",
   "mimetype": "text/x-python",
   "name": "python",
   "nbconvert_exporter": "python",
   "pygments_lexer": "ipython3",
   "version": "3.8.3"
  }
 },
 "nbformat": 4,
 "nbformat_minor": 4
}
