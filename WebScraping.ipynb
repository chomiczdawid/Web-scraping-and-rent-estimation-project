{
 "cells": [
  {
   "cell_type": "code",
   "execution_count": 178,
   "id": "8872cc3e",
   "metadata": {},
   "outputs": [],
   "source": [
    "from bs4 import BeautifulSoup as bs\n",
    "from urllib.request import Request, urlopen\n",
    "import requests \n",
    "import re\n",
    "from random import randint\n",
    "from time import sleep\n",
    "import json"
   ]
  },
  {
   "cell_type": "code",
   "execution_count": 219,
   "id": "3167b797",
   "metadata": {},
   "outputs": [],
   "source": [
    "#Returns the document with HTML code of requested webpage\n",
    "\n",
    "def downloadPage(url):\n",
    "    req = Request(url, headers={\n",
    "        'Accept': \"text/html,application/xhtml+xml,application/xml;q=0.9,image/avif,image/webp,*/*;q=0.8\", \n",
    "        'Accept-Encoding': \"gzip, deflate, br\", \n",
    "        'Accept-Language': \"pl,en-US;q=0.7,en;q=0.3\", \n",
    "        'Host': \"www.otodom.pl\", \n",
    "        'Referer': \"https://www.google.pl/\", \n",
    "        'Sec-Fetch-Dest': \"document\", \n",
    "        'Sec-Fetch-Mode': \"navigate\", \n",
    "        'Sec-Fetch-Site': \"cross-site\", \n",
    "        'Sec-Fetch-User': \"?1\", \n",
    "        'Upgrade-Insecure-Requests': \"1\", \n",
    "        'User-Agent': \"Mozilla/5.0 (Windows NT 10.0; Win64; x64; rv:108.0) Gecko/20100101 Firefox/108.0\", \n",
    "    })  \n",
    "    webpage = urlopen(req).read() \n",
    "    doc = bs(webpage, 'html5lib')\n",
    "    \n",
    "    return doc"
   ]
  },
  {
   "cell_type": "code",
   "execution_count": 220,
   "id": "67344b88",
   "metadata": {},
   "outputs": [],
   "source": [
    "#Returns the list of offers from one page\n",
    "\n",
    "def getOfferLink(main_url):\n",
    "    offer_links = []\n",
    "    htmlPage = downloadPage(main_url)\n",
    "    \n",
    "    search_table = htmlPage.find_all(class_=\"css-14cy79a e3x1uf06\")\n",
    "    for element in search_table:\n",
    "        offers = element.find_all(class_=\"css-p74l73 es62z2j17\")\n",
    "        for offer in offers:\n",
    "            offer = offer.find(\"a\", href = True, class_=\"css-rvjxyq es62z2j14\")\n",
    "            \n",
    "            offer_links.append(offer['href'])\n",
    "            \n",
    "    return offer_links"
   ]
  },
  {
   "cell_type": "code",
   "execution_count": 237,
   "id": "3ee517dd",
   "metadata": {},
   "outputs": [],
   "source": [
    "#Returns full list of searched offers \n",
    "\n",
    "def getListOfOffersLinks(pageNo_End, main_url):\n",
    "    offer_links_list = []\n",
    "    for pageNo in range(1, pageNo_End+1):\n",
    "        try: \n",
    "            linkslist = getOfferLink(main_url)\n",
    "            \n",
    "            offer_links_list.extend(linkslist)\n",
    "            time.sleep(randint(10,180))\n",
    "            \n",
    "        except:\n",
    "            pass\n",
    "        \n",
    "    return offer_links_list"
   ]
  },
  {
   "cell_type": "code",
   "execution_count": 205,
   "id": "19a8b983",
   "metadata": {},
   "outputs": [],
   "source": [
    "#Returns offer price\n",
    "\n",
    "def getOfferPrice(doc):\n",
    "    pice_location = doc.find(\"strong\", class_=\"css-8qi9av eu6swcv19\").get_text()\n",
    "    offer_price = int(str(pice_location).split(\" zł\")[0].replace(\" \",\"\"))\n",
    "    \n",
    "    return offer_price"
   ]
  },
  {
   "cell_type": "code",
   "execution_count": 207,
   "id": "a4117a79",
   "metadata": {},
   "outputs": [],
   "source": [
    "#Returns more offer details \n",
    "\n",
    "def getMoreDetails(doc):\n",
    "    script = str(doc.find_all(\"script\")[-1]).split(\">\")[1].split(\"<\")[0]\n",
    "    jsonfile = json.loads(script)\n",
    "    details = jsonfile['props']['pageProps']['ad']['topInformation']\n",
    "\n",
    "    return details"
   ]
  },
  {
   "cell_type": "code",
   "execution_count": null,
   "id": "7e423025",
   "metadata": {},
   "outputs": [],
   "source": [
    "#Te detale trzeba jeszcze zamienić w listę !!!!!!!!!"
   ]
  },
  {
   "cell_type": "code",
   "execution_count": null,
   "id": "5af8ef5b",
   "metadata": {},
   "outputs": [],
   "source": []
  },
  {
   "cell_type": "code",
   "execution_count": 240,
   "id": "f1ff50e9",
   "metadata": {},
   "outputs": [],
   "source": [
    "#Search details\n",
    "location = \"gdansk\"\n",
    "searching_object = \"mieszkanie\"\n",
    "offer_type = \"wynajem\"\n",
    "\n",
    "#Additional info to search pages\n",
    "offers_limit = 24\n",
    "pageNo = 1\n",
    "pageNo_End = 2\n",
    "\n",
    "#URL with the list of offers\n",
    "main_url = f\"https://www.otodom.pl/pl/oferty/{offer_type}/{searching_object}/{location}?distanceRadius=0&page={pageNo}&limit={offers_limit}&market=ALL&ownerTypeSingleSelect=ALL&locations=%5Bcities_6-40%5D&by=DEFAULT&direction=DESC&viewType=listing\""
   ]
  },
  {
   "cell_type": "code",
   "execution_count": 241,
   "id": "540e41f3",
   "metadata": {},
   "outputs": [],
   "source": []
  },
  {
   "cell_type": "code",
   "execution_count": null,
   "id": "d87659db",
   "metadata": {},
   "outputs": [],
   "source": []
  },
  {
   "cell_type": "code",
   "execution_count": null,
   "id": "0a2688da",
   "metadata": {},
   "outputs": [],
   "source": [
    "#Do zrobienia jeszcze funkcja, która będzie zwracać DataFrame z detalami ofert z listy"
   ]
  },
  {
   "cell_type": "code",
   "execution_count": 258,
   "id": "0a851361",
   "metadata": {},
   "outputs": [],
   "source": [
    "#Pobieranie strony oferty - to check and fix\n",
    "\n",
    "for link in offer_links:\n",
    "    offer_url = f\"https://www.otodom.pl/{link}\"\n",
    "    \n",
    "    try:\n",
    "        url_doc = downloadPage(offer_url)\n",
    "        price = getOfferPrice(url_doc)\n",
    "        details = getMoreDetails(url_doc)\n",
    "        \n",
    "        time.sleep(randint(10,200))\n",
    "        \n",
    "    except:\n",
    "        pass"
   ]
  },
  {
   "cell_type": "code",
   "execution_count": null,
   "id": "5e06383a",
   "metadata": {},
   "outputs": [],
   "source": []
  },
  {
   "cell_type": "code",
   "execution_count": null,
   "id": "e15ed6c3",
   "metadata": {},
   "outputs": [],
   "source": [
    "# Co więcej trzeba zrobić: \n",
    "#     - dodać proxyRotation - chyba już wiem, jak to zrobić\n",
    "#     - ogarnąć Selenium, żeby obejść Reacta"
   ]
  }
 ],
 "metadata": {
  "kernelspec": {
   "display_name": "Python 3 (ipykernel)",
   "language": "python",
   "name": "python3"
  },
  "language_info": {
   "codemirror_mode": {
    "name": "ipython",
    "version": 3
   },
   "file_extension": ".py",
   "mimetype": "text/x-python",
   "name": "python",
   "nbconvert_exporter": "python",
   "pygments_lexer": "ipython3",
   "version": "3.9.7"
  }
 },
 "nbformat": 4,
 "nbformat_minor": 5
}
