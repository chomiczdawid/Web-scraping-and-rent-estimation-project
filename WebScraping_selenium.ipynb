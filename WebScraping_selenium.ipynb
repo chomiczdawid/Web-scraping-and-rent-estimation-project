{
 "cells": [
  {
   "cell_type": "code",
   "execution_count": 306,
   "id": "1bb68ae8",
   "metadata": {},
   "outputs": [],
   "source": [
    "from bs4 import BeautifulSoup as bs\n",
    "from urllib.request import Request, urlopen\n",
    "import requests\n",
    "\n",
    "from selenium import webdriver\n",
    "from selenium.webdriver.chrome.service import Service\n",
    "from selenium.webdriver.common.by import By\n",
    "from selenium.webdriver import Keys, ActionChains\n",
    "from selenium.webdriver.support.wait import WebDriverWait\n",
    "from selenium.webdriver.support import expected_conditions as EC\n",
    " \n",
    "import re\n",
    "from random import randint\n",
    "from time import sleep\n",
    "import json\n",
    "import pandas as pd"
   ]
  },
  {
   "cell_type": "code",
   "execution_count": 278,
   "id": "b69d4bb6",
   "metadata": {},
   "outputs": [],
   "source": []
  },
  {
   "cell_type": "code",
   "execution_count": 279,
   "id": "0d896c89",
   "metadata": {},
   "outputs": [],
   "source": [
    "#Search details\n",
    "location = \"gdansk\"\n",
    "searching_object = \"mieszkanie\"\n",
    "offer_type = \"wynajem\"\n",
    "\n",
    "#Additional info to search pages\n",
    "offers_limit = 24\n",
    "pageNo = 1\n",
    "pageNo_End = 2\n",
    "\n",
    "#URL with the list of offers\n",
    "main_url = f\"https://www.otodom.pl/pl/oferty/{offer_type}/{searching_object}/{location}?distanceRadius=0&page={pageNo}&limit={offers_limit}&market=ALL&ownerTypeSingleSelect=ALL&locations=%5Bcities_6-40%5D&by=DEFAULT&direction=DESC&viewType=listing\""
   ]
  },
  {
   "cell_type": "code",
   "execution_count": 281,
   "id": "09f43f19",
   "metadata": {},
   "outputs": [],
   "source": [
    "path = Service(executable_path=\"D:\\ChromeDriver\\chromedriver.exe\")\n",
    "driver = webdriver.Chrome(service=path)\n",
    "\n",
    "driver.get(main_url)\n",
    "sleep(10)\n",
    "driver.quit()"
   ]
  },
  {
   "cell_type": "code",
   "execution_count": 310,
   "id": "f08b4530",
   "metadata": {},
   "outputs": [],
   "source": [
    "# test_links = []\n",
    "path = Service(executable_path=\"D:\\ChromeDriver\\chromedriver.exe\")\n",
    "driver = webdriver.Chrome(service=path)\n",
    "\n",
    "driver.get(main_url)\n",
    "\n",
    "try:\n",
    "    cookie = WebDriverWait(driver,7).until(\n",
    "        EC.presence_of_element_located((By.ID, \"onetrust-accept-btn-handler\"))\n",
    "    )\n",
    "    cookie.click()\n",
    "    \n",
    "    content = WebDriverWait(driver,7).until(\n",
    "        EC.presence_of_element_located((By.ID, \"__next\"))    \n",
    "    )\n",
    "    \n",
    "    action_key_down_w = ActionChains(driver).key_down(\"w\")\n",
    "    action_key_up_w = ActionChains(driver).key_up(\"w\")\n",
    "\n",
    "    endtime = time.time() + 1.0\n",
    "\n",
    "    while True:\n",
    "        action_key_down_w.perform()\n",
    "        \n",
    "        if time.time() > endtime:\n",
    "            action_key_up_w.perform()\n",
    "            break\n",
    "        \n",
    "    sleep(240)\n",
    "    \n",
    "    soup = bs(driver.page_source, \"html5lib\")\n",
    "    print(soup)\n",
    "    \n",
    "except:\n",
    "    driver.quit()\n",
    "    \n",
    "    \n",
    "\n",
    "\n",
    "#test_search_table = driver.find_element(By.CLASS_NAME,\"css-14cy79a e3x1uf06\")\n",
    "#     for test_element in search_table:\n",
    "#         offers = element.find_all(class_=\"css-p74l73 es62z2j17\")\n",
    "#         for offer in offers:\n",
    "#             offer = offer.find(\"a\", href = True, class_=\"css-rvjxyq es62z2j14\")\n",
    "            \n",
    "#             offer_links.append(offer['href'])\n",
    "\n",
    "# print(test_search_table)"
   ]
  },
  {
   "cell_type": "code",
   "execution_count": 219,
   "id": "ce1e4d8b",
   "metadata": {},
   "outputs": [],
   "source": [
    "#Returns the document with HTML code of requested webpage\n",
    "\n",
    "def downloadPage(url):\n",
    "    req = Request(url, headers={\n",
    "        'Accept': \"text/html,application/xhtml+xml,application/xml;q=0.9,image/avif,image/webp,*/*;q=0.8\", \n",
    "        'Accept-Encoding': \"gzip, deflate, br\", \n",
    "        'Accept-Language': \"pl,en-US;q=0.7,en;q=0.3\", \n",
    "        'Host': \"www.otodom.pl\", \n",
    "        'Referer': \"https://www.google.pl/\", \n",
    "        'Sec-Fetch-Dest': \"document\", \n",
    "        'Sec-Fetch-Mode': \"navigate\", \n",
    "        'Sec-Fetch-Site': \"cross-site\", \n",
    "        'Sec-Fetch-User': \"?1\", \n",
    "        'Upgrade-Insecure-Requests': \"1\", \n",
    "        'User-Agent': \"Mozilla/5.0 (Windows NT 10.0; Win64; x64) AppleWebKit/537.36 (KHTML, like Gecko) Chrome/108.0.0.0 Safari/537.36\", \n",
    "    })  \n",
    "    webpage = urlopen(req).read() \n",
    "    doc = bs(webpage, 'html5lib')\n",
    "    \n",
    "    return doc"
   ]
  },
  {
   "cell_type": "code",
   "execution_count": 220,
   "id": "7cb6b223",
   "metadata": {},
   "outputs": [],
   "source": [
    "#Returns the list of offers from one page\n",
    "\n",
    "def getOfferLink(main_url):\n",
    "    offer_links = []\n",
    "    htmlPage = downloadPage(main_url)\n",
    "    \n",
    "    search_table = htmlPage.find_all(class_=\"css-14cy79a e3x1uf06\")\n",
    "    for element in search_table:\n",
    "        offers = element.find_all(class_=\"css-p74l73 es62z2j17\")\n",
    "        for offer in offers:\n",
    "            offer = offer.find(\"a\", href = True, class_=\"css-rvjxyq es62z2j14\")\n",
    "            \n",
    "            offer_links.append(offer['href'])\n",
    "            \n",
    "    return offer_links"
   ]
  },
  {
   "cell_type": "code",
   "execution_count": 237,
   "id": "7e13c191",
   "metadata": {},
   "outputs": [],
   "source": [
    "#Returns full list of searched offers \n",
    "\n",
    "def getListOfOffersLinks(pageNo_End, main_url):\n",
    "    offer_links_list = []\n",
    "    for pageNo in range(1, pageNo_End+1):\n",
    "        try: \n",
    "            linkslist = getOfferLink(main_url)\n",
    "            \n",
    "            offer_links_list.extend(linkslist)\n",
    "            time.sleep(randint(10,180))\n",
    "            \n",
    "        except:\n",
    "            pass\n",
    "        \n",
    "    return offer_links_list"
   ]
  },
  {
   "cell_type": "code",
   "execution_count": 205,
   "id": "9c627993",
   "metadata": {},
   "outputs": [],
   "source": [
    "#Returns offer price\n",
    "\n",
    "def getOfferPrice(doc):\n",
    "    pice_location = doc.find(\"strong\", class_=\"css-8qi9av eu6swcv19\").get_text()\n",
    "    offer_price = int(str(pice_location).split(\" zł\")[0].replace(\" \",\"\"))\n",
    "    \n",
    "    return offer_price"
   ]
  },
  {
   "cell_type": "code",
   "execution_count": 207,
   "id": "184c1486",
   "metadata": {},
   "outputs": [],
   "source": [
    "#Returns more offer details \n",
    "\n",
    "def getMoreDetails(doc):\n",
    "    script = str(doc.find_all(\"script\")[-1]).split(\">\")[1].split(\"<\")[0]\n",
    "    jsonfile = json.loads(script)\n",
    "    details = jsonfile['props']['pageProps']['ad']['topInformation']\n",
    "\n",
    "    return details"
   ]
  },
  {
   "cell_type": "code",
   "execution_count": null,
   "id": "0332aeec",
   "metadata": {},
   "outputs": [],
   "source": [
    "#Te detale trzeba jeszcze zamienić w listę !!!!!!!!!"
   ]
  },
  {
   "cell_type": "code",
   "execution_count": 262,
   "id": "ad7408b0",
   "metadata": {},
   "outputs": [
    {
     "name": "stdout",
     "output_type": "stream",
     "text": [
      "           0     1          2           3                         4  \\\n",
      "label   area  rent  rooms_num     deposit                     floor   \n",
      "values  [40]    []        [2]  [3 200 zł]  [floor_no::floor_1, /10]   \n",
      "unit      m²                                                          \n",
      "\n",
      "                                5          6                        7  \\\n",
      "label               building_type  free_from                  outdoor   \n",
      "values  [building_type-15::block]         []  [extras_types::balcony]   \n",
      "unit                                                                    \n",
      "\n",
      "                      8                                       9  \n",
      "label   remote_services                     construction_status  \n",
      "values               []  [construction_status-67::ready_to_use]  \n",
      "unit                                                             \n"
     ]
    }
   ],
   "source": [
    "# Napraw to\n",
    "check = pd.DataFrame(details).transpose()\n",
    "print(check)"
   ]
  },
  {
   "cell_type": "code",
   "execution_count": 240,
   "id": "8f6ab793",
   "metadata": {},
   "outputs": [],
   "source": []
  },
  {
   "cell_type": "code",
   "execution_count": 241,
   "id": "a81700c6",
   "metadata": {},
   "outputs": [],
   "source": []
  },
  {
   "cell_type": "code",
   "execution_count": null,
   "id": "52c27858",
   "metadata": {},
   "outputs": [],
   "source": []
  },
  {
   "cell_type": "code",
   "execution_count": null,
   "id": "0a3f6ae1",
   "metadata": {},
   "outputs": [],
   "source": [
    "#Do zrobienia jeszcze funkcja, która będzie zwracać DataFrame z detalami ofert z listy"
   ]
  },
  {
   "cell_type": "code",
   "execution_count": 258,
   "id": "bd3c0401",
   "metadata": {},
   "outputs": [],
   "source": [
    "#Pobieranie strony oferty - to check and fix\n",
    "\n",
    "for link in offer_links:\n",
    "    offer_url = f\"https://www.otodom.pl/{link}\"\n",
    "    \n",
    "    try:\n",
    "        url_doc = downloadPage(offer_url)\n",
    "        price = getOfferPrice(url_doc)\n",
    "        details = getMoreDetails(url_doc)\n",
    "        \n",
    "        time.sleep(randint(10,200))\n",
    "        \n",
    "    except:\n",
    "        pass"
   ]
  },
  {
   "cell_type": "code",
   "execution_count": null,
   "id": "52c0324c",
   "metadata": {},
   "outputs": [],
   "source": []
  },
  {
   "cell_type": "code",
   "execution_count": null,
   "id": "45109983",
   "metadata": {},
   "outputs": [],
   "source": [
    "# Co więcej trzeba zrobić: \n",
    "#     - dodać proxyRotation - chyba już wiem, jak to zrobić\n",
    "#     - ogarnąć Selenium, żeby obejść Reacta"
   ]
  }
 ],
 "metadata": {
  "kernelspec": {
   "display_name": "Python 3 (ipykernel)",
   "language": "python",
   "name": "python3"
  },
  "language_info": {
   "codemirror_mode": {
    "name": "ipython",
    "version": 3
   },
   "file_extension": ".py",
   "mimetype": "text/x-python",
   "name": "python",
   "nbconvert_exporter": "python",
   "pygments_lexer": "ipython3",
   "version": "3.9.7"
  }
 },
 "nbformat": 4,
 "nbformat_minor": 5
}
