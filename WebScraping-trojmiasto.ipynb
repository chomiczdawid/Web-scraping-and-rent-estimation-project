{
 "cells": [
  {
   "cell_type": "markdown",
   "id": "cbdebbb4",
   "metadata": {},
   "source": [
    "# Libraries import"
   ]
  },
  {
   "cell_type": "code",
   "execution_count": 1,
   "id": "6f25bc95",
   "metadata": {},
   "outputs": [],
   "source": [
    "from bs4 import BeautifulSoup as bs\n",
    "from urllib.request import Request\n",
    "import requests \n",
    "from random import randint\n",
    "from time import sleep\n",
    "import pandas as pd\n",
    "from pathlib import Path  "
   ]
  },
  {
   "cell_type": "markdown",
   "id": "f3cb556f",
   "metadata": {},
   "source": [
    "# Defining functions "
   ]
  },
  {
   "cell_type": "code",
   "execution_count": 3,
   "id": "9545489d",
   "metadata": {},
   "outputs": [],
   "source": [
    "#Returns the document with HTML code of requested webpage\n",
    "\n",
    "def downloadPage(url):\n",
    "    req = Request(url, headers={\n",
    "        'Accept': \"text/html,application/xhtml+xml,application/xml;q=0.9,image/avif,image/webp,*/*;q=0.8\", \n",
    "        'Accept-Encoding': \"gzip, deflate, br\", \n",
    "        'Accept-Language': \"pl,en-US;q=0.7,en;q=0.3\", \n",
    "        'Host': \"ogloszenia.trojmiasto.pl\", \n",
    "        'Referer': \"https://www.google.pl/\", \n",
    "        'Sec-Fetch-Dest': \"document\", \n",
    "        'Sec-Fetch-Mode': \"navigate\", \n",
    "        'Sec-Fetch-Site': \"cross-site\", \n",
    "        'Sec-Fetch-User': \"?1\", \n",
    "        'Upgrade-Insecure-Requests': \"1\", \n",
    "        'User-Agent': \"Mozilla/5.0 (Windows NT 10.0; Win64; x64; rv:108.0) Gecko/20100101 Firefox/108.0\", \n",
    "    })  \n",
    "    webpage = requests.get(url) \n",
    "    doc = bs(webpage.content.decode('utf-8'), 'html5lib')\n",
    "    \n",
    "    return doc"
   ]
  },
  {
   "cell_type": "code",
   "execution_count": 4,
   "id": "ddde4b65",
   "metadata": {},
   "outputs": [],
   "source": [
    "#Returns last page number\n",
    "\n",
    "def getNoOfPages(doc):\n",
    "    last_page = doc.find(class_=\"pages__controls__last\")\n",
    "    pageNo_End = int(last_page['data-page-number'])\n",
    "    \n",
    "    return pageNo_End"
   ]
  },
  {
   "cell_type": "code",
   "execution_count": 5,
   "id": "1b297ad9",
   "metadata": {},
   "outputs": [],
   "source": [
    "#Returns the list of offers' links from one result page\n",
    "\n",
    "def getOfferLink(url):\n",
    "    offer_links = []\n",
    "    htmlPage = downloadPage(url)\n",
    "    \n",
    "    search_table = htmlPage.find_all(class_=\"ogl__list__wrap\")                                     #table with offers\n",
    "    \n",
    "    for element in search_table:\n",
    "        offers = element.find_all(class_=\"list__item__wrap__content\")                              #frame of one offer\n",
    "        for offer in offers:\n",
    "            offer = offer.find(\"a\", href = True, class_=\"list__item__content__title__name link\")   #offer's link\n",
    "            \n",
    "            offer_links.append(offer['href'])\n",
    "            \n",
    "    return offer_links"
   ]
  },
  {
   "cell_type": "code",
   "execution_count": 6,
   "id": "b7fbfc9d",
   "metadata": {},
   "outputs": [],
   "source": [
    "#Returns full list of searched offers' links\n",
    "\n",
    "def getListOfOffersLinks(pageNo_End, base_url):\n",
    "    offer_links_list = []\n",
    "    for pageNo in range(1, pageNo_End+1):          #pages crawling\n",
    "        current_page = base_url+str(pageNo)        #def next page\n",
    "        linkslist = getOfferLink(current_page)     #list of offers' links from current page\n",
    "\n",
    "        offer_links_list.extend(linkslist)         #add offers' links to the main list\n",
    "\n",
    "        sleep(randint(2,10))                       #wait before sending next request\n",
    "            \n",
    "    return offer_links_list"
   ]
  },
  {
   "cell_type": "code",
   "execution_count": 7,
   "id": "edd6f4a1",
   "metadata": {},
   "outputs": [],
   "source": [
    "#Returns dataframe with details of one offer\n",
    "\n",
    "def getOfferDetails(offer_doc, offer_link):\n",
    "    main_info = offer_doc.find_all(class_=\"oglField__container\")\n",
    "    dict_fields = {}                                   #def a dictionary where details of the offer will be loaded\n",
    "\n",
    "    Cena = []\n",
    "    \n",
    "    try:\n",
    "        cena_search = main_info[0].find(\"p\", class_=\"oglDetailsMoney autolinkSafariFix\").text\n",
    "        Cena.append(cena_search)\n",
    "        dict_fields['Cena'] = Cena\n",
    "\n",
    "    except IndexError:                                 #error occurs when e.g. the offer has been deleted\n",
    "        print(\"----------- ERROR -----------\")\n",
    "        print(offer_link)\n",
    "        print(\"-----------------------------\")\n",
    "        \n",
    "\n",
    "    for field in main_info:\n",
    "        try:\n",
    "            name1 = field.find(class_=\"oglField__name\").text\n",
    "            value1 = []\n",
    "            value_search = field.find(class_=\"oglField__value\").text\n",
    "            value1.append(value_search)\n",
    "            \n",
    "            dict_fields[name1] = value1\n",
    "            \n",
    "        except AttributeError:                         #error occurs when e.g. the field is not used in the offer\n",
    "            pass\n",
    "\n",
    "    df_offer = pd.DataFrame.from_dict(dict_fields)     #creation of a dataframe with details from dictionary\n",
    "    \n",
    "    return df_offer"
   ]
  },
  {
   "cell_type": "code",
   "execution_count": 8,
   "id": "f9e9a63b",
   "metadata": {},
   "outputs": [],
   "source": [
    "#Returns datframe with details of all offers \n",
    "\n",
    "def getDataFrame(offer_links_list):\n",
    "    offers_datalist = []                      #def a list where details of the offers will be loaded\n",
    "    \n",
    "    i = 0                                     #counter of downloaded offers\n",
    "\n",
    "    for offer in offer_links_list: \n",
    "        offer_doc = downloadPage(offer)\n",
    "        df_offer = getOfferDetails(offer_doc, offer)\n",
    "\n",
    "        offers_datalist.append(df_offer)\n",
    "\n",
    "        i+=1\n",
    "        \n",
    "        if (i % 100 == 0 ):                   #log - saving a .csv backup file with offers' details after each 100 offers downloading\n",
    "            print(f\"Prcoessing of {i}/{len(offer_links_list)} offers completed.\")       #progress\n",
    "            \n",
    "            temp_df = pd.concat(offers_datalist).reset_index(drop=True)\n",
    "            backup_path = Path(f'C:/Users/malgo/OneDrive - University of Gdansk (for Students)/Pulpit/data_test/backup/backup_{i}.csv')  \n",
    "            temp_df.to_csv(backup_path)\n",
    "        \n",
    "        sleep(randint(2,10))                  #wait before next offer details request\n",
    "\n",
    "    offers_df = pd.concat(offers_datalist).reset_index(drop=True)\n",
    "    \n",
    "    return offers_df"
   ]
  },
  {
   "cell_type": "markdown",
   "id": "b36066c8",
   "metadata": {},
   "source": [
    "# Script running"
   ]
  },
  {
   "cell_type": "code",
   "execution_count": 9,
   "id": "d3652ddd",
   "metadata": {},
   "outputs": [],
   "source": [
    "#URL address for requests\n",
    "\n",
    "pageNo = 1\n",
    "base_url = f\"https://ogloszenia.trojmiasto.pl/nieruchomosci-mam-do-wynajecia/gdansk/?strona=\"\n",
    "main_url = base_url+str(pageNo)"
   ]
  },
  {
   "cell_type": "code",
   "execution_count": 10,
   "id": "3a284081",
   "metadata": {},
   "outputs": [],
   "source": [
    "#HTML file\n",
    "\n",
    "doc = downloadPage(main_url)"
   ]
  },
  {
   "cell_type": "code",
   "execution_count": 11,
   "id": "4499dcd2",
   "metadata": {},
   "outputs": [],
   "source": [
    "#Last page number\n",
    "\n",
    "pageNo_End = getNoOfPages(doc)"
   ]
  },
  {
   "cell_type": "code",
   "execution_count": 12,
   "id": "afc26b39",
   "metadata": {},
   "outputs": [],
   "source": [
    "#List of offers' links\n",
    "\n",
    "offer_links_list = getListOfOffersLinks(pageNo_End, base_url)"
   ]
  },
  {
   "cell_type": "code",
   "execution_count": 16,
   "id": "8cdc9f66",
   "metadata": {},
   "outputs": [
    {
     "name": "stdout",
     "output_type": "stream",
     "text": [
      "Prcoessing of 100/2867 offers completed.\n",
      "Prcoessing of 200/2867 offers completed.\n",
      "Prcoessing of 300/2867 offers completed.\n",
      "Prcoessing of 400/2867 offers completed.\n",
      "Prcoessing of 500/2867 offers completed.\n",
      "Prcoessing of 600/2867 offers completed.\n",
      "Prcoessing of 700/2867 offers completed.\n",
      "Prcoessing of 800/2867 offers completed.\n",
      "Prcoessing of 900/2867 offers completed.\n",
      "Prcoessing of 1000/2867 offers completed.\n",
      "----------- ERROR -----------\n",
      "https://ogloszenia.trojmiasto.pl/nieruchomosci-mam-do-wynajecia/komfortowe-mieszkanie-z-balkonem-silownia-garaz-wrzeszcz-ambiente-ogl65165220.html\n",
      "-----------------------------\n",
      "----------- ERROR -----------\n",
      "https://ogloszenia.trojmiasto.pl/nieruchomosci-mam-do-wynajecia/przestronne-mieszkanie-2-pokojowe-z-duzym-balkonem-wiszace-ogrody-jasien-ogl65165217.html\n",
      "-----------------------------\n",
      "----------- ERROR -----------\n",
      "https://ogloszenia.trojmiasto.pl/nieruchomosci-mam-do-wynajecia/dwupokojowe-wygodne-mieszkanie-blisko-galerii-forum-kartuska-ogl65165134.html\n",
      "-----------------------------\n",
      "----------- ERROR -----------\n",
      "https://ogloszenia.trojmiasto.pl/nieruchomosci-mam-do-wynajecia/apartament-2-pok-m-post-gdansk-oliwa-ogl65164996.html\n",
      "-----------------------------\n",
      "Prcoessing of 1100/2867 offers completed.\n",
      "Prcoessing of 1200/2867 offers completed.\n",
      "Prcoessing of 1300/2867 offers completed.\n",
      "Prcoessing of 1400/2867 offers completed.\n",
      "Prcoessing of 1500/2867 offers completed.\n",
      "Prcoessing of 1600/2867 offers completed.\n",
      "Prcoessing of 1700/2867 offers completed.\n",
      "----------- ERROR -----------\n",
      "https://ogloszenia.trojmiasto.pl/nieruchomosci-mam-do-wynajecia/pokoj-gdansk-wrzeszcz-ogl65132900.html\n",
      "-----------------------------\n",
      "Prcoessing of 1800/2867 offers completed.\n",
      "Prcoessing of 1900/2867 offers completed.\n",
      "Prcoessing of 2000/2867 offers completed.\n",
      "Prcoessing of 2100/2867 offers completed.\n",
      "Prcoessing of 2200/2867 offers completed.\n",
      "Prcoessing of 2300/2867 offers completed.\n",
      "Prcoessing of 2400/2867 offers completed.\n",
      "----------- ERROR -----------\n",
      "https://ogloszenia.trojmiasto.pl/nieruchomosci-mam-do-wynajecia/lokale-biurowe-w-kameralnym-biurowcu-wrzeszcz-ogl64906199.html\n",
      "-----------------------------\n",
      "Prcoessing of 2500/2867 offers completed.\n",
      "Prcoessing of 2600/2867 offers completed.\n",
      "Prcoessing of 2700/2867 offers completed.\n",
      "Prcoessing of 2800/2867 offers completed.\n",
      "----------- ERROR -----------\n",
      "https://ogloszenia.trojmiasto.pl/nieruchomosci-mam-do-wynajecia/lokal-gdansk-matarnia-budowlanych-343-m2-ogl64828021.html\n",
      "-----------------------------\n",
      "----------- ERROR -----------\n",
      "https://ogloszenia.trojmiasto.pl/nieruchomosci-mam-do-wynajecia/lokal-gdansk-matarnia-budowlanych-178-m2-ogl64828020.html\n",
      "-----------------------------\n"
     ]
    }
   ],
   "source": [
    "#Requested data\n",
    "\n",
    "offers_df = getDataFrame(offer_links_list)\n",
    "\n",
    "filepath = Path('C:/Users/malgo/OneDrive - University of Gdansk (for Students)/Pulpit/data_test/data_trojmiasto.csv')  \n",
    "offers_df.to_csv(filepath)  "
   ]
  }
 ],
 "metadata": {
  "kernelspec": {
   "display_name": "Python 3 (ipykernel)",
   "language": "python",
   "name": "python3"
  },
  "language_info": {
   "codemirror_mode": {
    "name": "ipython",
    "version": 3
   },
   "file_extension": ".py",
   "mimetype": "text/x-python",
   "name": "python",
   "nbconvert_exporter": "python",
   "pygments_lexer": "ipython3",
   "version": "3.9.7"
  }
 },
 "nbformat": 4,
 "nbformat_minor": 5
}
